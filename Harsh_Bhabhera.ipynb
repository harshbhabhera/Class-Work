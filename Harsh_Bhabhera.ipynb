{
  "nbformat": 4,
  "nbformat_minor": 0,
  "metadata": {
    "kernelspec": {
      "language": "python",
      "display_name": "Python 3",
      "name": "python3"
    },
    "language_info": {
      "pygments_lexer": "ipython3",
      "nbconvert_exporter": "python",
      "version": "3.6.4",
      "file_extension": ".py",
      "codemirror_mode": {
        "name": "ipython",
        "version": 3
      },
      "name": "python",
      "mimetype": "text/x-python"
    },
    "colab": {
      "name": "Harsh Bhabhera.ipynb",
      "provenance": [],
      "include_colab_link": true
    }
  },
  "cells": [
    {
      "cell_type": "markdown",
      "metadata": {
        "id": "view-in-github",
        "colab_type": "text"
      },
      "source": [
        "<a href=\"https://colab.research.google.com/github/harshbhabhera/Class-Work/blob/master/Harsh_Bhabhera.ipynb\" target=\"_parent\"><img src=\"https://colab.research.google.com/assets/colab-badge.svg\" alt=\"Open In Colab\"/></a>"
      ]
    },
    {
      "cell_type": "code",
      "metadata": {
        "_uuid": "8f2839f25d086af736a60e9eeb907d3b93b6e0e5",
        "_cell_guid": "b1076dfc-b9ad-4769-8c92-a6c4dae69d19",
        "trusted": true,
        "id": "mWdl_NN-Jhjj",
        "colab_type": "code",
        "colab": {}
      },
      "source": [
        "# This Python 3 environment comes with many helpful analytics libraries installed\n",
        "# It is defined by the kaggle/python docker image: https://github.com/kaggle/docker-python\n",
        "# For example, here's several helpful packages to load in \n",
        "\n",
        "import numpy as np # linear algebra\n",
        "import pandas as pd # data processing, CSV file I/O (e.g. pd.read_csv)\n",
        "\n",
        "# Input data files are available in the \"../input/\" directory.\n",
        "# For example, running this (by clicking run or pressing Shift+Enter) will list all files under the input directory\n",
        "\n",
        "import os\n",
        "for dirname, _, filenames in os.walk('/kaggle/input'):\n",
        "    for filename in filenames:\n",
        "        print(os.path.join(dirname, filename))\n",
        "\n",
        "# Any results you write to the current directory are saved as output."
      ],
      "execution_count": 0,
      "outputs": []
    },
    {
      "cell_type": "code",
      "metadata": {
        "_uuid": "d629ff2d2480ee46fbb7e2d37f6b5fab8052498a",
        "_cell_guid": "79c7e3d0-c299-4dcb-8224-4455121ee9b0",
        "trusted": true,
        "id": "D6p03i5XJhjo",
        "colab_type": "code",
        "colab": {
          "base_uri": "https://localhost:8080/",
          "height": 416
        },
        "outputId": "329bc753-d997-4458-a182-545e34beeae9"
      },
      "source": [
        "! wget https://github.com/amsurve/J050_sem6_nlp/blob/master/datasets/10k-german-news-articles.zip?raw=true\n",
        "! mkdir newsarticles\n",
        "! unzip 10k-german-news-articles.zip?raw=true -d newsarticles\n",
        "\n",
        "ann_df=pd.read_csv(\"/content/newsarticles/Annotations.csv\")\n",
        "posts_df=pd.read_csv(\"/content/newsarticles/Posts.csv\")\n",
        "cats_df=pd.read_csv(\"/content/newsarticles/Categories.csv\")\n",
        "News_df=pd.read_csv(\"/content/newsarticles/Newspaper_Staff.csv\")\n",
        "articles_df=pd.read_csv(\"/content/newsarticles/Articles.csv\")\n",
        "cvsplit_df=pd.read_csv(\"/content/newsarticles/CrossValSplit.csv\")\n",
        "consol_df=pd.read_csv(\"/content/newsarticles/Annotations_consolidated.csv\")"
      ],
      "execution_count": 74,
      "outputs": [
        {
          "output_type": "stream",
          "text": [
            "--2020-03-03 17:34:44--  https://github.com/amsurve/J050_sem6_nlp/blob/master/datasets/10k-german-news-articles.zip?raw=true\n",
            "Resolving github.com (github.com)... 140.82.113.3\n",
            "Connecting to github.com (github.com)|140.82.113.3|:443... connected.\n",
            "HTTP request sent, awaiting response... 302 Found\n",
            "Location: https://github.com/amsurve/J050_sem6_nlp/raw/master/datasets/10k-german-news-articles.zip [following]\n",
            "--2020-03-03 17:34:44--  https://github.com/amsurve/J050_sem6_nlp/raw/master/datasets/10k-german-news-articles.zip\n",
            "Reusing existing connection to github.com:443.\n",
            "HTTP request sent, awaiting response... 302 Found\n",
            "Location: https://media.githubusercontent.com/media/amsurve/J050_sem6_nlp/master/datasets/10k-german-news-articles.zip [following]\n",
            "--2020-03-03 17:34:44--  https://media.githubusercontent.com/media/amsurve/J050_sem6_nlp/master/datasets/10k-german-news-articles.zip\n",
            "Resolving media.githubusercontent.com (media.githubusercontent.com)... 151.101.0.133, 151.101.64.133, 151.101.128.133, ...\n",
            "Connecting to media.githubusercontent.com (media.githubusercontent.com)|151.101.0.133|:443... connected.\n",
            "HTTP request sent, awaiting response... 200 OK\n",
            "Length: 128989980 (123M) [application/zip]\n",
            "Saving to: ‘10k-german-news-articles.zip?raw=true.1’\n",
            "\n",
            "10k-german-news-art 100%[===================>] 123.01M   168MB/s    in 0.7s    \n",
            "\n",
            "2020-03-03 17:34:45 (168 MB/s) - ‘10k-german-news-articles.zip?raw=true.1’ saved [128989980/128989980]\n",
            "\n",
            "mkdir: cannot create directory ‘newsarticles’: File exists\n",
            "Archive:  10k-german-news-articles.zip?raw=true\n",
            "replace newsarticles/Annotations.csv? [y]es, [n]o, [A]ll, [N]one, [r]ename: "
          ],
          "name": "stdout"
        }
      ]
    },
    {
      "cell_type": "code",
      "metadata": {
        "trusted": true,
        "id": "KlE0GxaPJhjx",
        "colab_type": "code",
        "colab": {
          "base_uri": "https://localhost:8080/",
          "height": 202
        },
        "outputId": "f43b6e7e-ce66-4597-811c-0cee83b456b7"
      },
      "source": [
        "ann_df.head()"
      ],
      "execution_count": 76,
      "outputs": [
        {
          "output_type": "execute_result",
          "data": {
            "text/html": [
              "<div>\n",
              "<style scoped>\n",
              "    .dataframe tbody tr th:only-of-type {\n",
              "        vertical-align: middle;\n",
              "    }\n",
              "\n",
              "    .dataframe tbody tr th {\n",
              "        vertical-align: top;\n",
              "    }\n",
              "\n",
              "    .dataframe thead th {\n",
              "        text-align: right;\n",
              "    }\n",
              "</style>\n",
              "<table border=\"1\" class=\"dataframe\">\n",
              "  <thead>\n",
              "    <tr style=\"text-align: right;\">\n",
              "      <th></th>\n",
              "      <th>ID_Post</th>\n",
              "      <th>ID_Annotator</th>\n",
              "      <th>Category</th>\n",
              "      <th>Value</th>\n",
              "    </tr>\n",
              "  </thead>\n",
              "  <tbody>\n",
              "    <tr>\n",
              "      <th>0</th>\n",
              "      <td>3326</td>\n",
              "      <td>1</td>\n",
              "      <td>ArgumentsUsed</td>\n",
              "      <td>0</td>\n",
              "    </tr>\n",
              "    <tr>\n",
              "      <th>1</th>\n",
              "      <td>3326</td>\n",
              "      <td>1</td>\n",
              "      <td>Discriminating</td>\n",
              "      <td>0</td>\n",
              "    </tr>\n",
              "    <tr>\n",
              "      <th>2</th>\n",
              "      <td>3326</td>\n",
              "      <td>1</td>\n",
              "      <td>Inappropriate</td>\n",
              "      <td>0</td>\n",
              "    </tr>\n",
              "    <tr>\n",
              "      <th>3</th>\n",
              "      <td>3326</td>\n",
              "      <td>1</td>\n",
              "      <td>OffTopic</td>\n",
              "      <td>0</td>\n",
              "    </tr>\n",
              "    <tr>\n",
              "      <th>4</th>\n",
              "      <td>3326</td>\n",
              "      <td>1</td>\n",
              "      <td>PersonalStories</td>\n",
              "      <td>0</td>\n",
              "    </tr>\n",
              "  </tbody>\n",
              "</table>\n",
              "</div>"
            ],
            "text/plain": [
              "   ID_Post  ID_Annotator         Category  Value\n",
              "0     3326             1    ArgumentsUsed      0\n",
              "1     3326             1   Discriminating      0\n",
              "2     3326             1    Inappropriate      0\n",
              "3     3326             1         OffTopic      0\n",
              "4     3326             1  PersonalStories      0"
            ]
          },
          "metadata": {
            "tags": []
          },
          "execution_count": 76
        }
      ]
    },
    {
      "cell_type": "code",
      "metadata": {
        "trusted": true,
        "id": "xB0cyJRjJhj0",
        "colab_type": "code",
        "colab": {
          "base_uri": "https://localhost:8080/",
          "height": 289
        },
        "outputId": "d37c5be6-51db-4e7f-a8de-df2f9c9afbf7"
      },
      "source": [
        "posts_df.head()"
      ],
      "execution_count": 77,
      "outputs": [
        {
          "output_type": "execute_result",
          "data": {
            "text/html": [
              "<div>\n",
              "<style scoped>\n",
              "    .dataframe tbody tr th:only-of-type {\n",
              "        vertical-align: middle;\n",
              "    }\n",
              "\n",
              "    .dataframe tbody tr th {\n",
              "        vertical-align: top;\n",
              "    }\n",
              "\n",
              "    .dataframe thead th {\n",
              "        text-align: right;\n",
              "    }\n",
              "</style>\n",
              "<table border=\"1\" class=\"dataframe\">\n",
              "  <thead>\n",
              "    <tr style=\"text-align: right;\">\n",
              "      <th></th>\n",
              "      <th>ID_Post</th>\n",
              "      <th>ID_Parent_Post</th>\n",
              "      <th>ID_Article</th>\n",
              "      <th>ID_User</th>\n",
              "      <th>CreatedAt</th>\n",
              "      <th>Status</th>\n",
              "      <th>Headline</th>\n",
              "      <th>Body</th>\n",
              "      <th>PositiveVotes</th>\n",
              "      <th>NegativeVotes</th>\n",
              "    </tr>\n",
              "  </thead>\n",
              "  <tbody>\n",
              "    <tr>\n",
              "      <th>0</th>\n",
              "      <td>1</td>\n",
              "      <td>NaN</td>\n",
              "      <td>1</td>\n",
              "      <td>9089</td>\n",
              "      <td>2003-04-23 14:52:41.870</td>\n",
              "      <td>deleted</td>\n",
              "      <td>NaN</td>\n",
              "      <td>NaN</td>\n",
              "      <td>0</td>\n",
              "      <td>0</td>\n",
              "    </tr>\n",
              "    <tr>\n",
              "      <th>1</th>\n",
              "      <td>2</td>\n",
              "      <td>NaN</td>\n",
              "      <td>1</td>\n",
              "      <td>29367</td>\n",
              "      <td>2003-11-04 16:21:57.850</td>\n",
              "      <td>online</td>\n",
              "      <td>Newsletter \"DER STANDARD\"</td>\n",
              "      <td>Ich bin begeistert von den STANDARD - Newslett...</td>\n",
              "      <td>0</td>\n",
              "      <td>0</td>\n",
              "    </tr>\n",
              "    <tr>\n",
              "      <th>2</th>\n",
              "      <td>3</td>\n",
              "      <td>2.0</td>\n",
              "      <td>1</td>\n",
              "      <td>5095</td>\n",
              "      <td>2004-01-28 12:57:28.240</td>\n",
              "      <td>deleted</td>\n",
              "      <td>Auch begeistert...</td>\n",
              "      <td>... Aber momentan funktioniert das Abmelden od...</td>\n",
              "      <td>0</td>\n",
              "      <td>0</td>\n",
              "    </tr>\n",
              "    <tr>\n",
              "      <th>3</th>\n",
              "      <td>4</td>\n",
              "      <td>3.0</td>\n",
              "      <td>1</td>\n",
              "      <td>1682</td>\n",
              "      <td>2004-02-03 20:32:39.123</td>\n",
              "      <td>deleted</td>\n",
              "      <td>Abmeldeprobleme</td>\n",
              "      <td>Es ist ganz einfach nervend!\\r\\nVor kurzem hab...</td>\n",
              "      <td>0</td>\n",
              "      <td>0</td>\n",
              "    </tr>\n",
              "    <tr>\n",
              "      <th>4</th>\n",
              "      <td>5</td>\n",
              "      <td>NaN</td>\n",
              "      <td>1</td>\n",
              "      <td>3343</td>\n",
              "      <td>2004-03-02 11:37:44.100</td>\n",
              "      <td>online</td>\n",
              "      <td>NaN</td>\n",
              "      <td>und sie als mitarbeiter sind natuerlich objektiv</td>\n",
              "      <td>0</td>\n",
              "      <td>0</td>\n",
              "    </tr>\n",
              "  </tbody>\n",
              "</table>\n",
              "</div>"
            ],
            "text/plain": [
              "   ID_Post  ID_Parent_Post  ...  PositiveVotes  NegativeVotes\n",
              "0        1             NaN  ...              0              0\n",
              "1        2             NaN  ...              0              0\n",
              "2        3             2.0  ...              0              0\n",
              "3        4             3.0  ...              0              0\n",
              "4        5             NaN  ...              0              0\n",
              "\n",
              "[5 rows x 10 columns]"
            ]
          },
          "metadata": {
            "tags": []
          },
          "execution_count": 77
        }
      ]
    },
    {
      "cell_type": "code",
      "metadata": {
        "trusted": true,
        "id": "vBK_tEuXJhj3",
        "colab_type": "code",
        "colab": {
          "base_uri": "https://localhost:8080/",
          "height": 202
        },
        "outputId": "aff3957c-ad28-4c5e-9660-2de97c764549"
      },
      "source": [
        "cats_df.head()"
      ],
      "execution_count": 78,
      "outputs": [
        {
          "output_type": "execute_result",
          "data": {
            "text/html": [
              "<div>\n",
              "<style scoped>\n",
              "    .dataframe tbody tr th:only-of-type {\n",
              "        vertical-align: middle;\n",
              "    }\n",
              "\n",
              "    .dataframe tbody tr th {\n",
              "        vertical-align: top;\n",
              "    }\n",
              "\n",
              "    .dataframe thead th {\n",
              "        text-align: right;\n",
              "    }\n",
              "</style>\n",
              "<table border=\"1\" class=\"dataframe\">\n",
              "  <thead>\n",
              "    <tr style=\"text-align: right;\">\n",
              "      <th></th>\n",
              "      <th>Name</th>\n",
              "      <th>Ord</th>\n",
              "    </tr>\n",
              "  </thead>\n",
              "  <tbody>\n",
              "    <tr>\n",
              "      <th>0</th>\n",
              "      <td>SentimentNegative</td>\n",
              "      <td>1</td>\n",
              "    </tr>\n",
              "    <tr>\n",
              "      <th>1</th>\n",
              "      <td>SentimentNeutral</td>\n",
              "      <td>2</td>\n",
              "    </tr>\n",
              "    <tr>\n",
              "      <th>2</th>\n",
              "      <td>SentimentPositive</td>\n",
              "      <td>3</td>\n",
              "    </tr>\n",
              "    <tr>\n",
              "      <th>3</th>\n",
              "      <td>OffTopic</td>\n",
              "      <td>4</td>\n",
              "    </tr>\n",
              "    <tr>\n",
              "      <th>4</th>\n",
              "      <td>Inappropriate</td>\n",
              "      <td>5</td>\n",
              "    </tr>\n",
              "  </tbody>\n",
              "</table>\n",
              "</div>"
            ],
            "text/plain": [
              "                Name  Ord\n",
              "0  SentimentNegative    1\n",
              "1   SentimentNeutral    2\n",
              "2  SentimentPositive    3\n",
              "3           OffTopic    4\n",
              "4      Inappropriate    5"
            ]
          },
          "metadata": {
            "tags": []
          },
          "execution_count": 78
        }
      ]
    },
    {
      "cell_type": "code",
      "metadata": {
        "trusted": true,
        "id": "x_YMv3c7Jhj6",
        "colab_type": "code",
        "colab": {
          "base_uri": "https://localhost:8080/",
          "height": 202
        },
        "outputId": "9f5520fe-09ec-4379-adeb-61dfbf9601bf"
      },
      "source": [
        "News_df.head()"
      ],
      "execution_count": 79,
      "outputs": [
        {
          "output_type": "execute_result",
          "data": {
            "text/html": [
              "<div>\n",
              "<style scoped>\n",
              "    .dataframe tbody tr th:only-of-type {\n",
              "        vertical-align: middle;\n",
              "    }\n",
              "\n",
              "    .dataframe tbody tr th {\n",
              "        vertical-align: top;\n",
              "    }\n",
              "\n",
              "    .dataframe thead th {\n",
              "        text-align: right;\n",
              "    }\n",
              "</style>\n",
              "<table border=\"1\" class=\"dataframe\">\n",
              "  <thead>\n",
              "    <tr style=\"text-align: right;\">\n",
              "      <th></th>\n",
              "      <th>ID_User</th>\n",
              "    </tr>\n",
              "  </thead>\n",
              "  <tbody>\n",
              "    <tr>\n",
              "      <th>0</th>\n",
              "      <td>123</td>\n",
              "    </tr>\n",
              "    <tr>\n",
              "      <th>1</th>\n",
              "      <td>383</td>\n",
              "    </tr>\n",
              "    <tr>\n",
              "      <th>2</th>\n",
              "      <td>407</td>\n",
              "    </tr>\n",
              "    <tr>\n",
              "      <th>3</th>\n",
              "      <td>461</td>\n",
              "    </tr>\n",
              "    <tr>\n",
              "      <th>4</th>\n",
              "      <td>497</td>\n",
              "    </tr>\n",
              "  </tbody>\n",
              "</table>\n",
              "</div>"
            ],
            "text/plain": [
              "   ID_User\n",
              "0      123\n",
              "1      383\n",
              "2      407\n",
              "3      461\n",
              "4      497"
            ]
          },
          "metadata": {
            "tags": []
          },
          "execution_count": 79
        }
      ]
    },
    {
      "cell_type": "code",
      "metadata": {
        "trusted": true,
        "id": "RnCRUxo6Jhj8",
        "colab_type": "code",
        "colab": {
          "base_uri": "https://localhost:8080/",
          "height": 289
        },
        "outputId": "e080582c-d7bb-4331-fc20-90a4a79daec2"
      },
      "source": [
        "articles_df.head()"
      ],
      "execution_count": 80,
      "outputs": [
        {
          "output_type": "execute_result",
          "data": {
            "text/html": [
              "<div>\n",
              "<style scoped>\n",
              "    .dataframe tbody tr th:only-of-type {\n",
              "        vertical-align: middle;\n",
              "    }\n",
              "\n",
              "    .dataframe tbody tr th {\n",
              "        vertical-align: top;\n",
              "    }\n",
              "\n",
              "    .dataframe thead th {\n",
              "        text-align: right;\n",
              "    }\n",
              "</style>\n",
              "<table border=\"1\" class=\"dataframe\">\n",
              "  <thead>\n",
              "    <tr style=\"text-align: right;\">\n",
              "      <th></th>\n",
              "      <th>ID_Article</th>\n",
              "      <th>Path</th>\n",
              "      <th>publishingDate</th>\n",
              "      <th>Title</th>\n",
              "      <th>Body</th>\n",
              "    </tr>\n",
              "  </thead>\n",
              "  <tbody>\n",
              "    <tr>\n",
              "      <th>0</th>\n",
              "      <td>1</td>\n",
              "      <td>Newsroom/User/Community</td>\n",
              "      <td>2012-05-26 03:00:19.23</td>\n",
              "      <td>Die Newsletter von derStandard.at</td>\n",
              "      <td>&lt;div class=\"section\" id=\"content-main\" itempro...</td>\n",
              "    </tr>\n",
              "    <tr>\n",
              "      <th>1</th>\n",
              "      <td>2</td>\n",
              "      <td>Newsroom/User/Community/Regeln</td>\n",
              "      <td>2012-05-26 12:12:19.46</td>\n",
              "      <td>Werden Sie Teil von derStandard.at!</td>\n",
              "      <td>&lt;div class=\"diashow\" id=\"objectContent\"&gt;&lt;meta ...</td>\n",
              "    </tr>\n",
              "    <tr>\n",
              "      <th>2</th>\n",
              "      <td>3</td>\n",
              "      <td>Diverses/mobil</td>\n",
              "      <td>2013-11-22 12:15:00.00</td>\n",
              "      <td>Die Android App von derStandard.at</td>\n",
              "      <td>&lt;div class=\"section\" id=\"content-main\" itempro...</td>\n",
              "    </tr>\n",
              "    <tr>\n",
              "      <th>3</th>\n",
              "      <td>4</td>\n",
              "      <td>Newsroom/User/mitmachen/Mitreden</td>\n",
              "      <td>2014-08-13 05:30:00.00</td>\n",
              "      <td>Welche Erfahrungen haben Sie als Linkshänder g...</td>\n",
              "      <td>&lt;div class=\"section\" id=\"content-main\" itempro...</td>\n",
              "    </tr>\n",
              "    <tr>\n",
              "      <th>4</th>\n",
              "      <td>5</td>\n",
              "      <td>Newsroom/User/mitmachen/Mitreden</td>\n",
              "      <td>2014-08-27 12:27:01.09</td>\n",
              "      <td>Wie haben Sie das Jahr 1989 erlebt?</td>\n",
              "      <td>&lt;div class=\"section\" id=\"content-main\" itempro...</td>\n",
              "    </tr>\n",
              "  </tbody>\n",
              "</table>\n",
              "</div>"
            ],
            "text/plain": [
              "   ID_Article  ...                                               Body\n",
              "0           1  ...  <div class=\"section\" id=\"content-main\" itempro...\n",
              "1           2  ...  <div class=\"diashow\" id=\"objectContent\"><meta ...\n",
              "2           3  ...  <div class=\"section\" id=\"content-main\" itempro...\n",
              "3           4  ...  <div class=\"section\" id=\"content-main\" itempro...\n",
              "4           5  ...  <div class=\"section\" id=\"content-main\" itempro...\n",
              "\n",
              "[5 rows x 5 columns]"
            ]
          },
          "metadata": {
            "tags": []
          },
          "execution_count": 80
        }
      ]
    },
    {
      "cell_type": "code",
      "metadata": {
        "trusted": true,
        "id": "_4HaZ58VJhj_",
        "colab_type": "code",
        "colab": {
          "base_uri": "https://localhost:8080/",
          "height": 202
        },
        "outputId": "62d2b0ec-6516-4762-dad4-25abbe70c069"
      },
      "source": [
        "cvsplit_df.head()"
      ],
      "execution_count": 81,
      "outputs": [
        {
          "output_type": "execute_result",
          "data": {
            "text/html": [
              "<div>\n",
              "<style scoped>\n",
              "    .dataframe tbody tr th:only-of-type {\n",
              "        vertical-align: middle;\n",
              "    }\n",
              "\n",
              "    .dataframe tbody tr th {\n",
              "        vertical-align: top;\n",
              "    }\n",
              "\n",
              "    .dataframe thead th {\n",
              "        text-align: right;\n",
              "    }\n",
              "</style>\n",
              "<table border=\"1\" class=\"dataframe\">\n",
              "  <thead>\n",
              "    <tr style=\"text-align: right;\">\n",
              "      <th></th>\n",
              "      <th>ID_Post</th>\n",
              "      <th>Category</th>\n",
              "      <th>Fold</th>\n",
              "    </tr>\n",
              "  </thead>\n",
              "  <tbody>\n",
              "    <tr>\n",
              "      <th>0</th>\n",
              "      <td>79</td>\n",
              "      <td>PossiblyFeedback</td>\n",
              "      <td>1</td>\n",
              "    </tr>\n",
              "    <tr>\n",
              "      <th>1</th>\n",
              "      <td>81</td>\n",
              "      <td>PossiblyFeedback</td>\n",
              "      <td>1</td>\n",
              "    </tr>\n",
              "    <tr>\n",
              "      <th>2</th>\n",
              "      <td>132</td>\n",
              "      <td>PossiblyFeedback</td>\n",
              "      <td>1</td>\n",
              "    </tr>\n",
              "    <tr>\n",
              "      <th>3</th>\n",
              "      <td>134</td>\n",
              "      <td>PossiblyFeedback</td>\n",
              "      <td>1</td>\n",
              "    </tr>\n",
              "    <tr>\n",
              "      <th>4</th>\n",
              "      <td>139</td>\n",
              "      <td>PossiblyFeedback</td>\n",
              "      <td>1</td>\n",
              "    </tr>\n",
              "  </tbody>\n",
              "</table>\n",
              "</div>"
            ],
            "text/plain": [
              "   ID_Post          Category  Fold\n",
              "0       79  PossiblyFeedback     1\n",
              "1       81  PossiblyFeedback     1\n",
              "2      132  PossiblyFeedback     1\n",
              "3      134  PossiblyFeedback     1\n",
              "4      139  PossiblyFeedback     1"
            ]
          },
          "metadata": {
            "tags": []
          },
          "execution_count": 81
        }
      ]
    },
    {
      "cell_type": "code",
      "metadata": {
        "trusted": true,
        "id": "-2BhrSs0JhkB",
        "colab_type": "code",
        "colab": {
          "base_uri": "https://localhost:8080/",
          "height": 202
        },
        "outputId": "b692d146-03f7-4b5f-cff7-612ea854ceaa"
      },
      "source": [
        "consol_df.head()"
      ],
      "execution_count": 82,
      "outputs": [
        {
          "output_type": "execute_result",
          "data": {
            "text/html": [
              "<div>\n",
              "<style scoped>\n",
              "    .dataframe tbody tr th:only-of-type {\n",
              "        vertical-align: middle;\n",
              "    }\n",
              "\n",
              "    .dataframe tbody tr th {\n",
              "        vertical-align: top;\n",
              "    }\n",
              "\n",
              "    .dataframe thead th {\n",
              "        text-align: right;\n",
              "    }\n",
              "</style>\n",
              "<table border=\"1\" class=\"dataframe\">\n",
              "  <thead>\n",
              "    <tr style=\"text-align: right;\">\n",
              "      <th></th>\n",
              "      <th>ID_Post</th>\n",
              "      <th>Category</th>\n",
              "      <th>Value</th>\n",
              "    </tr>\n",
              "  </thead>\n",
              "  <tbody>\n",
              "    <tr>\n",
              "      <th>0</th>\n",
              "      <td>79</td>\n",
              "      <td>PossiblyFeedback</td>\n",
              "      <td>1</td>\n",
              "    </tr>\n",
              "    <tr>\n",
              "      <th>1</th>\n",
              "      <td>81</td>\n",
              "      <td>PossiblyFeedback</td>\n",
              "      <td>1</td>\n",
              "    </tr>\n",
              "    <tr>\n",
              "      <th>2</th>\n",
              "      <td>132</td>\n",
              "      <td>PossiblyFeedback</td>\n",
              "      <td>1</td>\n",
              "    </tr>\n",
              "    <tr>\n",
              "      <th>3</th>\n",
              "      <td>134</td>\n",
              "      <td>PossiblyFeedback</td>\n",
              "      <td>1</td>\n",
              "    </tr>\n",
              "    <tr>\n",
              "      <th>4</th>\n",
              "      <td>139</td>\n",
              "      <td>PossiblyFeedback</td>\n",
              "      <td>1</td>\n",
              "    </tr>\n",
              "  </tbody>\n",
              "</table>\n",
              "</div>"
            ],
            "text/plain": [
              "   ID_Post          Category  Value\n",
              "0       79  PossiblyFeedback      1\n",
              "1       81  PossiblyFeedback      1\n",
              "2      132  PossiblyFeedback      1\n",
              "3      134  PossiblyFeedback      1\n",
              "4      139  PossiblyFeedback      1"
            ]
          },
          "metadata": {
            "tags": []
          },
          "execution_count": 82
        }
      ]
    },
    {
      "cell_type": "code",
      "metadata": {
        "trusted": true,
        "id": "8Y3qFFb6JhkE",
        "colab_type": "code",
        "colab": {
          "base_uri": "https://localhost:8080/",
          "height": 55
        },
        "outputId": "4f21a61f-3055-49fa-d315-8c4518902f17"
      },
      "source": [
        "articles_df[\"Body\"][0]"
      ],
      "execution_count": 83,
      "outputs": [
        {
          "output_type": "execute_result",
          "data": {
            "text/plain": [
              "'<div class=\"section\" id=\"content-main\" itemprop=\"articleBody\"><div class=\"copytext\"><h2 itemprop=\"description\">Abonnieren Sie einen unserer Newsletter und lassen Sie sich aktuelle Nachrichten per Mail zuschicken! derStandard.at bietet eine Vielzahl themenbezogener Newsletter an.</h2><p>Unter dem Motto \"Nachrichten in Echtzeit\" liefert derStandard.at die wichtigsten Meldungen des Tages per E-Mail in einer HTML- oder Textversion. Unter <strong><a href=\"/Newsletter\">derStandard.at/Newsletter</a></strong> können Sie Ihr kostenloses Newsletter-Abonnement bequem an- und abmelden.</p>\\n<p><strong>Alle Newsletter im Überblick</strong></p>\\n<ul><ul><li>D-Mail <strong>Newsroom:</strong> Spitzenmeldungen aus allen Newsroom-Ressorts</li><li>D-Mail <strong>Meinung:</strong> Aktuelle Kommentare und Kolumnen</li><li>D-Mail <strong>Internationalpolitik:</strong> Top-News über das internationale Geschehen</li><li>D-Mail <strong>Innenpolitik:</strong> Top-News über das innenpolitische Geschehen</li><li>D-Mail <strong>Wirtschaft:</strong> Nachrichten aus der Unternehmens- und Wirtschaftsbranche</li><li>D-Mail <strong>Finanz &amp; Börse:</strong> Finanz- &amp; Börse-News</li><li>D-Mail <strong>Webstandard:</strong> Das Neueste aus Netz &amp; Technologie</li><li>D-Mail <strong>Sport:</strong> Spitzenmeldungen aus dem Sportressort</li><li>D-Mail <strong>Panorama:</strong> Meldungen aus Chronik, Gesellschaft, Umwelt und Wien</li><li>D-Mail <strong>Etat:</strong> Top-Aktuelles aus Medien &amp; Werbung sowie Newsflash</li><li>D-Mail <strong>Kultur:</strong> Aktuelle Kultur-Nachrichten</li><li><strong>Alert-Mail:</strong> Brandaktuelle Meldungen von besonderer Wichtigkeit liefert das A-Mail</li></ul></ul>\\n<p><strong>Wöchentliche Newsletter</strong></p>\\n<ul><ul><li><strong>Weekly-Mail:</strong> Das W-Mail informiert jeweils zur Wochenmitte über Neuigkeiten rund um das Angebot von derStandard.at und bringt Highlights aus allen Ressorts</li><li>W-Mail<strong> Gesundheit:</strong> Der wöchentliche Überblick zu aktuellen Gesundheitsthemen</li><li>W-Mail<strong> Bildung:</strong> Der wöchentliche Überblick für Bildung</li><li>W-Mail <strong>Lifestyle:</strong> Wöchentliche News zu Essen, Mode &amp; Design</li><li>W-Mail <strong>Reise:</strong> Berichte und Tipps rund ums Reisen</li><li>W-Mail <strong>Karriere: </strong>Karrieretipps, Arbeitsleben &amp; Führungsfragen<br/></li><li>W-Mail<strong> Immobilien:</strong> Das Neueste aus der Welt des Wohnens</li><li>W-Mail<strong> Autos:</strong> Wöchentliche News und Test-Berichte rund um Autos und Motorräder</li><li>W-Mail <strong>User: </strong>Beiträge der User und Community</li><li><strong>I-Mail Gewinnspiele:</strong> Infos zu aktuellen Gewinnspielen</li></ul></ul> </div><div class=\"supplemental\"><p><strong>Link</strong></p>\\n<p><a href=\"http://derstandard.at/userprofil/emailabos/newsletter\">Login / Registrierung / E-Mail-Abos verwalten</a></p></div></div>\\n'"
            ]
          },
          "metadata": {
            "tags": []
          },
          "execution_count": 83
        }
      ]
    },
    {
      "cell_type": "code",
      "metadata": {
        "trusted": true,
        "id": "9uTtVTQ5JhkG",
        "colab_type": "code",
        "colab": {
          "base_uri": "https://localhost:8080/",
          "height": 529
        },
        "outputId": "7d646737-ecfb-485c-d95f-1b53d4535956"
      },
      "source": [
        "articles_df.head(10)"
      ],
      "execution_count": 84,
      "outputs": [
        {
          "output_type": "execute_result",
          "data": {
            "text/html": [
              "<div>\n",
              "<style scoped>\n",
              "    .dataframe tbody tr th:only-of-type {\n",
              "        vertical-align: middle;\n",
              "    }\n",
              "\n",
              "    .dataframe tbody tr th {\n",
              "        vertical-align: top;\n",
              "    }\n",
              "\n",
              "    .dataframe thead th {\n",
              "        text-align: right;\n",
              "    }\n",
              "</style>\n",
              "<table border=\"1\" class=\"dataframe\">\n",
              "  <thead>\n",
              "    <tr style=\"text-align: right;\">\n",
              "      <th></th>\n",
              "      <th>ID_Article</th>\n",
              "      <th>Path</th>\n",
              "      <th>publishingDate</th>\n",
              "      <th>Title</th>\n",
              "      <th>Body</th>\n",
              "    </tr>\n",
              "  </thead>\n",
              "  <tbody>\n",
              "    <tr>\n",
              "      <th>0</th>\n",
              "      <td>1</td>\n",
              "      <td>Newsroom/User/Community</td>\n",
              "      <td>2012-05-26 03:00:19.23</td>\n",
              "      <td>Die Newsletter von derStandard.at</td>\n",
              "      <td>&lt;div class=\"section\" id=\"content-main\" itempro...</td>\n",
              "    </tr>\n",
              "    <tr>\n",
              "      <th>1</th>\n",
              "      <td>2</td>\n",
              "      <td>Newsroom/User/Community/Regeln</td>\n",
              "      <td>2012-05-26 12:12:19.46</td>\n",
              "      <td>Werden Sie Teil von derStandard.at!</td>\n",
              "      <td>&lt;div class=\"diashow\" id=\"objectContent\"&gt;&lt;meta ...</td>\n",
              "    </tr>\n",
              "    <tr>\n",
              "      <th>2</th>\n",
              "      <td>3</td>\n",
              "      <td>Diverses/mobil</td>\n",
              "      <td>2013-11-22 12:15:00.00</td>\n",
              "      <td>Die Android App von derStandard.at</td>\n",
              "      <td>&lt;div class=\"section\" id=\"content-main\" itempro...</td>\n",
              "    </tr>\n",
              "    <tr>\n",
              "      <th>3</th>\n",
              "      <td>4</td>\n",
              "      <td>Newsroom/User/mitmachen/Mitreden</td>\n",
              "      <td>2014-08-13 05:30:00.00</td>\n",
              "      <td>Welche Erfahrungen haben Sie als Linkshänder g...</td>\n",
              "      <td>&lt;div class=\"section\" id=\"content-main\" itempro...</td>\n",
              "    </tr>\n",
              "    <tr>\n",
              "      <th>4</th>\n",
              "      <td>5</td>\n",
              "      <td>Newsroom/User/mitmachen/Mitreden</td>\n",
              "      <td>2014-08-27 12:27:01.09</td>\n",
              "      <td>Wie haben Sie das Jahr 1989 erlebt?</td>\n",
              "      <td>&lt;div class=\"section\" id=\"content-main\" itempro...</td>\n",
              "    </tr>\n",
              "    <tr>\n",
              "      <th>5</th>\n",
              "      <td>6</td>\n",
              "      <td>Newsroom/User/mitmachen/Mitreden</td>\n",
              "      <td>2014-09-30 09:56:00.00</td>\n",
              "      <td>Ihre schlimmsten Hotelerlebnisse</td>\n",
              "      <td>&lt;div class=\"section\" id=\"content-main\" itempro...</td>\n",
              "    </tr>\n",
              "    <tr>\n",
              "      <th>6</th>\n",
              "      <td>7</td>\n",
              "      <td>Newsroom/User/Community/Austausch</td>\n",
              "      <td>2014-09-26 14:00:11.00</td>\n",
              "      <td>Keine Scheu vor der Community!</td>\n",
              "      <td>&lt;div class=\"section\" id=\"content-main\" itempro...</td>\n",
              "    </tr>\n",
              "    <tr>\n",
              "      <th>7</th>\n",
              "      <td>8</td>\n",
              "      <td>Newsroom/User/mitmachen/Mitreden</td>\n",
              "      <td>2014-11-13 10:43:36.00</td>\n",
              "      <td>Was wollten Sie als Kind werden?</td>\n",
              "      <td>&lt;div class=\"section\" id=\"content-main\" itempro...</td>\n",
              "    </tr>\n",
              "    <tr>\n",
              "      <th>8</th>\n",
              "      <td>9</td>\n",
              "      <td>Newsroom/User/mitmachen/Mitreden</td>\n",
              "      <td>2015-02-02 11:36:00.66</td>\n",
              "      <td>Wie war Ihr erstes Mal im World Wide Web?</td>\n",
              "      <td>&lt;div class=\"section\" id=\"content-main\" itempro...</td>\n",
              "    </tr>\n",
              "    <tr>\n",
              "      <th>9</th>\n",
              "      <td>10</td>\n",
              "      <td>Newsroom/Wissenschaft/Zoom/Quiz</td>\n",
              "      <td>2015-02-07 17:00:00.00</td>\n",
              "      <td>Community-Quiz #2: Können Sie die Postings in ...</td>\n",
              "      <td>&lt;div class=\"section\" id=\"content-main\"&gt;&lt;div cl...</td>\n",
              "    </tr>\n",
              "  </tbody>\n",
              "</table>\n",
              "</div>"
            ],
            "text/plain": [
              "   ID_Article  ...                                               Body\n",
              "0           1  ...  <div class=\"section\" id=\"content-main\" itempro...\n",
              "1           2  ...  <div class=\"diashow\" id=\"objectContent\"><meta ...\n",
              "2           3  ...  <div class=\"section\" id=\"content-main\" itempro...\n",
              "3           4  ...  <div class=\"section\" id=\"content-main\" itempro...\n",
              "4           5  ...  <div class=\"section\" id=\"content-main\" itempro...\n",
              "5           6  ...  <div class=\"section\" id=\"content-main\" itempro...\n",
              "6           7  ...  <div class=\"section\" id=\"content-main\" itempro...\n",
              "7           8  ...  <div class=\"section\" id=\"content-main\" itempro...\n",
              "8           9  ...  <div class=\"section\" id=\"content-main\" itempro...\n",
              "9          10  ...  <div class=\"section\" id=\"content-main\"><div cl...\n",
              "\n",
              "[10 rows x 5 columns]"
            ]
          },
          "metadata": {
            "tags": []
          },
          "execution_count": 84
        }
      ]
    },
    {
      "cell_type": "code",
      "metadata": {
        "trusted": true,
        "id": "5b7ZmG7HJhkI",
        "colab_type": "code",
        "colab": {}
      },
      "source": [
        "df = articles_df"
      ],
      "execution_count": 0,
      "outputs": []
    },
    {
      "cell_type": "code",
      "metadata": {
        "trusted": true,
        "id": "xsxfPklGJhkK",
        "colab_type": "code",
        "colab": {
          "base_uri": "https://localhost:8080/",
          "height": 121
        },
        "outputId": "589a0c77-16f3-4c8f-da2c-c1febc15632e"
      },
      "source": [
        "df[\"Body\"].head(5)"
      ],
      "execution_count": 86,
      "outputs": [
        {
          "output_type": "execute_result",
          "data": {
            "text/plain": [
              "0    <div class=\"section\" id=\"content-main\" itempro...\n",
              "1    <div class=\"diashow\" id=\"objectContent\"><meta ...\n",
              "2    <div class=\"section\" id=\"content-main\" itempro...\n",
              "3    <div class=\"section\" id=\"content-main\" itempro...\n",
              "4    <div class=\"section\" id=\"content-main\" itempro...\n",
              "Name: Body, dtype: object"
            ]
          },
          "metadata": {
            "tags": []
          },
          "execution_count": 86
        }
      ]
    },
    {
      "cell_type": "code",
      "metadata": {
        "trusted": true,
        "id": "33HR4_F7JhkO",
        "colab_type": "code",
        "colab": {
          "base_uri": "https://localhost:8080/",
          "height": 260
        },
        "outputId": "07f22844-d9d2-498c-c9df-c3466b3e638d"
      },
      "source": [
        "df.info"
      ],
      "execution_count": 87,
      "outputs": [
        {
          "output_type": "execute_result",
          "data": {
            "text/plain": [
              "<bound method DataFrame.info of        ID_Article  ...                                               Body\n",
              "0               1  ...  <div class=\"section\" id=\"content-main\" itempro...\n",
              "1               2  ...  <div class=\"diashow\" id=\"objectContent\"><meta ...\n",
              "2               3  ...  <div class=\"section\" id=\"content-main\" itempro...\n",
              "3               4  ...  <div class=\"section\" id=\"content-main\" itempro...\n",
              "4               5  ...  <div class=\"section\" id=\"content-main\" itempro...\n",
              "...           ...  ...                                                ...\n",
              "12082       12083  ...  <div class=\"section\" id=\"content-main\" itempro...\n",
              "12083       12084  ...  <div class=\"section\" id=\"content-main\" itempro...\n",
              "12084       12085  ...  <div class=\"section\" id=\"content-main\" itempro...\n",
              "12085       12086  ...  <div class=\"section\" id=\"content-main\" itempro...\n",
              "12086       12087  ...  <div class=\"section\" id=\"content-main\" itempro...\n",
              "\n",
              "[12087 rows x 5 columns]>"
            ]
          },
          "metadata": {
            "tags": []
          },
          "execution_count": 87
        }
      ]
    },
    {
      "cell_type": "code",
      "metadata": {
        "trusted": true,
        "id": "2NNdfbrDJhkR",
        "colab_type": "code",
        "colab": {}
      },
      "source": [
        "import re"
      ],
      "execution_count": 0,
      "outputs": []
    },
    {
      "cell_type": "code",
      "metadata": {
        "trusted": true,
        "id": "4iynazupJhkU",
        "colab_type": "code",
        "colab": {}
      },
      "source": [
        "articles_df.iloc[0]['Body']\n",
        "\n",
        "def removehtml(text):\n",
        "    clean = re.compile('<.*?>')\n",
        "    return re.sub(clean, '', text)\n",
        "\n",
        "articles_df['Body'] = articles_df['Body'].apply(removehtml)"
      ],
      "execution_count": 0,
      "outputs": []
    },
    {
      "cell_type": "code",
      "metadata": {
        "id": "rMgR6t3hMwMc",
        "colab_type": "code",
        "colab": {}
      },
      "source": [
        ""
      ],
      "execution_count": 0,
      "outputs": []
    },
    {
      "cell_type": "code",
      "metadata": {
        "trusted": true,
        "id": "2EL3227iJhkW",
        "colab_type": "code",
        "colab": {
          "base_uri": "https://localhost:8080/",
          "height": 433
        },
        "outputId": "72b64011-69a1-4026-802a-d4e61b4f1ec5"
      },
      "source": [
        "\n",
        "articles_df.head(8)"
      ],
      "execution_count": 90,
      "outputs": [
        {
          "output_type": "execute_result",
          "data": {
            "text/html": [
              "<div>\n",
              "<style scoped>\n",
              "    .dataframe tbody tr th:only-of-type {\n",
              "        vertical-align: middle;\n",
              "    }\n",
              "\n",
              "    .dataframe tbody tr th {\n",
              "        vertical-align: top;\n",
              "    }\n",
              "\n",
              "    .dataframe thead th {\n",
              "        text-align: right;\n",
              "    }\n",
              "</style>\n",
              "<table border=\"1\" class=\"dataframe\">\n",
              "  <thead>\n",
              "    <tr style=\"text-align: right;\">\n",
              "      <th></th>\n",
              "      <th>ID_Article</th>\n",
              "      <th>Path</th>\n",
              "      <th>publishingDate</th>\n",
              "      <th>Title</th>\n",
              "      <th>Body</th>\n",
              "    </tr>\n",
              "  </thead>\n",
              "  <tbody>\n",
              "    <tr>\n",
              "      <th>0</th>\n",
              "      <td>1</td>\n",
              "      <td>Newsroom/User/Community</td>\n",
              "      <td>2012-05-26 03:00:19.23</td>\n",
              "      <td>Die Newsletter von derStandard.at</td>\n",
              "      <td>Abonnieren Sie einen unserer Newsletter und la...</td>\n",
              "    </tr>\n",
              "    <tr>\n",
              "      <th>1</th>\n",
              "      <td>2</td>\n",
              "      <td>Newsroom/User/Community/Regeln</td>\n",
              "      <td>2012-05-26 12:12:19.46</td>\n",
              "      <td>Werden Sie Teil von derStandard.at!</td>\n",
              "      <td>Werden Sie Teil von derStandard.at!10. Dezembe...</td>\n",
              "    </tr>\n",
              "    <tr>\n",
              "      <th>2</th>\n",
              "      <td>3</td>\n",
              "      <td>Diverses/mobil</td>\n",
              "      <td>2013-11-22 12:15:00.00</td>\n",
              "      <td>Die Android App von derStandard.at</td>\n",
              "      <td>Die Smartphone-App bietet Nachrichten in Echtz...</td>\n",
              "    </tr>\n",
              "    <tr>\n",
              "      <th>3</th>\n",
              "      <td>4</td>\n",
              "      <td>Newsroom/User/mitmachen/Mitreden</td>\n",
              "      <td>2014-08-13 05:30:00.00</td>\n",
              "      <td>Welche Erfahrungen haben Sie als Linkshänder g...</td>\n",
              "      <td>Wie sieht Ihr Alltag als Linkshänder aus? Erle...</td>\n",
              "    </tr>\n",
              "    <tr>\n",
              "      <th>4</th>\n",
              "      <td>5</td>\n",
              "      <td>Newsroom/User/mitmachen/Mitreden</td>\n",
              "      <td>2014-08-27 12:27:01.09</td>\n",
              "      <td>Wie haben Sie das Jahr 1989 erlebt?</td>\n",
              "      <td>Erzählen Sie uns von Ihren Erlebnissen rund um...</td>\n",
              "    </tr>\n",
              "    <tr>\n",
              "      <th>5</th>\n",
              "      <td>6</td>\n",
              "      <td>Newsroom/User/mitmachen/Mitreden</td>\n",
              "      <td>2014-09-30 09:56:00.00</td>\n",
              "      <td>Ihre schlimmsten Hotelerlebnisse</td>\n",
              "      <td>Der Sommer ist vorbei, und für die meisten von...</td>\n",
              "    </tr>\n",
              "    <tr>\n",
              "      <th>6</th>\n",
              "      <td>7</td>\n",
              "      <td>Newsroom/User/Community/Austausch</td>\n",
              "      <td>2014-09-26 14:00:11.00</td>\n",
              "      <td>Keine Scheu vor der Community!</td>\n",
              "      <td>Diskutieren, wo es möglich ist, kontern, wo es...</td>\n",
              "    </tr>\n",
              "    <tr>\n",
              "      <th>7</th>\n",
              "      <td>8</td>\n",
              "      <td>Newsroom/User/mitmachen/Mitreden</td>\n",
              "      <td>2014-11-13 10:43:36.00</td>\n",
              "      <td>Was wollten Sie als Kind werden?</td>\n",
              "      <td>\"Ich will Feuerwehrmann werden\": Unvergessen d...</td>\n",
              "    </tr>\n",
              "  </tbody>\n",
              "</table>\n",
              "</div>"
            ],
            "text/plain": [
              "   ID_Article  ...                                               Body\n",
              "0           1  ...  Abonnieren Sie einen unserer Newsletter und la...\n",
              "1           2  ...  Werden Sie Teil von derStandard.at!10. Dezembe...\n",
              "2           3  ...  Die Smartphone-App bietet Nachrichten in Echtz...\n",
              "3           4  ...  Wie sieht Ihr Alltag als Linkshänder aus? Erle...\n",
              "4           5  ...  Erzählen Sie uns von Ihren Erlebnissen rund um...\n",
              "5           6  ...  Der Sommer ist vorbei, und für die meisten von...\n",
              "6           7  ...  Diskutieren, wo es möglich ist, kontern, wo es...\n",
              "7           8  ...  \"Ich will Feuerwehrmann werden\": Unvergessen d...\n",
              "\n",
              "[8 rows x 5 columns]"
            ]
          },
          "metadata": {
            "tags": []
          },
          "execution_count": 90
        }
      ]
    },
    {
      "cell_type": "code",
      "metadata": {
        "trusted": true,
        "id": "DWS-TawXJhkY",
        "colab_type": "code",
        "colab": {}
      },
      "source": [
        "#def pipeline(text):\n",
        " #   text = text.lower()\n",
        "  #  stop_words = (stopwords.words('german'))\n",
        "   # word_tokens = word_tokenize(text)\n",
        "    #filtered_sentence = [w for w in word_tokens if w not in stop_words]\n",
        "#\n",
        " #   return filtered_sentence"
      ],
      "execution_count": 0,
      "outputs": []
    },
    {
      "cell_type": "code",
      "metadata": {
        "trusted": true,
        "id": "9XC-QICoJhka",
        "colab_type": "code",
        "colab": {}
      },
      "source": [
        "\n",
        "def pipeline(text):\n",
        "    #text = text.lower()\n",
        "    stop_words = (stopwords.words('german'))\n",
        "    word_tokens = word_tokenize(text)\n",
        "    filtered_sentence = [w for w in word_tokens if w not in stop_words]\n",
        "    #lemmatize_words = np.vectorize(lem.lemmatize , otypes=[str])\n",
        "    filtered_sentence = ' '.join(filtered_sentence)\n",
        "\n",
        "    return filtered_sentence"
      ],
      "execution_count": 0,
      "outputs": []
    },
    {
      "cell_type": "code",
      "metadata": {
        "trusted": true,
        "id": "4renS5FyJhkc",
        "colab_type": "code",
        "colab": {}
      },
      "source": [
        "import seaborn as sns\n",
        "import matplotlib.pyplot as plt\n",
        "import nltk\n",
        "import re\n",
        "import string\n",
        "from nltk.corpus import stopwords\n",
        "from nltk.tokenize import RegexpTokenizer\n",
        "from nltk import WordNetLemmatizer\n"
      ],
      "execution_count": 0,
      "outputs": []
    },
    {
      "cell_type": "code",
      "metadata": {
        "trusted": true,
        "id": "bC1wEWipJhkf",
        "colab_type": "code",
        "colab": {}
      },
      "source": [
        "mwe= nltk.MWETokenizer()\n",
        "lem = WordNetLemmatizer()"
      ],
      "execution_count": 0,
      "outputs": []
    },
    {
      "cell_type": "code",
      "metadata": {
        "trusted": true,
        "id": "dwJljkqkJhkh",
        "colab_type": "code",
        "colab": {}
      },
      "source": [
        "from nltk.tokenize import word_tokenize"
      ],
      "execution_count": 0,
      "outputs": []
    },
    {
      "cell_type": "code",
      "metadata": {
        "id": "XpgqwCidKPFr",
        "colab_type": "code",
        "colab": {
          "base_uri": "https://localhost:8080/",
          "height": 104
        },
        "outputId": "5c091a61-4364-48dc-b49f-e95ba44bca70"
      },
      "source": [
        "import nltk  \n",
        "nltk.download('stopwords')\n",
        "\n",
        "nltk.download('punkt')"
      ],
      "execution_count": 96,
      "outputs": [
        {
          "output_type": "stream",
          "text": [
            "[nltk_data] Downloading package stopwords to /root/nltk_data...\n",
            "[nltk_data]   Package stopwords is already up-to-date!\n",
            "[nltk_data] Downloading package punkt to /root/nltk_data...\n",
            "[nltk_data]   Package punkt is already up-to-date!\n"
          ],
          "name": "stdout"
        },
        {
          "output_type": "execute_result",
          "data": {
            "text/plain": [
              "True"
            ]
          },
          "metadata": {
            "tags": []
          },
          "execution_count": 96
        }
      ]
    },
    {
      "cell_type": "code",
      "metadata": {
        "trusted": true,
        "id": "tU-jHud3Jhkj",
        "colab_type": "code",
        "colab": {}
      },
      "source": [
        "articles_df['Body'] = articles_df['Body'].apply(pipeline)\n"
      ],
      "execution_count": 0,
      "outputs": []
    },
    {
      "cell_type": "code",
      "metadata": {
        "id": "dj2KcICXLIXD",
        "colab_type": "code",
        "colab": {}
      },
      "source": [
        ""
      ],
      "execution_count": 0,
      "outputs": []
    },
    {
      "cell_type": "code",
      "metadata": {
        "trusted": true,
        "id": "aOmiubjUJhkl",
        "colab_type": "code",
        "colab": {}
      },
      "source": [
        "dff = articles_df.head(50)"
      ],
      "execution_count": 0,
      "outputs": []
    },
    {
      "cell_type": "code",
      "metadata": {
        "trusted": true,
        "id": "SsR3fHqIJhko",
        "colab_type": "code",
        "colab": {
          "base_uri": "https://localhost:8080/",
          "height": 289
        },
        "outputId": "c3227124-4bc8-41f3-ab9b-e64186d5055a"
      },
      "source": [
        "dff.head(5)"
      ],
      "execution_count": 99,
      "outputs": [
        {
          "output_type": "execute_result",
          "data": {
            "text/html": [
              "<div>\n",
              "<style scoped>\n",
              "    .dataframe tbody tr th:only-of-type {\n",
              "        vertical-align: middle;\n",
              "    }\n",
              "\n",
              "    .dataframe tbody tr th {\n",
              "        vertical-align: top;\n",
              "    }\n",
              "\n",
              "    .dataframe thead th {\n",
              "        text-align: right;\n",
              "    }\n",
              "</style>\n",
              "<table border=\"1\" class=\"dataframe\">\n",
              "  <thead>\n",
              "    <tr style=\"text-align: right;\">\n",
              "      <th></th>\n",
              "      <th>ID_Article</th>\n",
              "      <th>Path</th>\n",
              "      <th>publishingDate</th>\n",
              "      <th>Title</th>\n",
              "      <th>Body</th>\n",
              "    </tr>\n",
              "  </thead>\n",
              "  <tbody>\n",
              "    <tr>\n",
              "      <th>0</th>\n",
              "      <td>1</td>\n",
              "      <td>Newsroom/User/Community</td>\n",
              "      <td>2012-05-26 03:00:19.23</td>\n",
              "      <td>Die Newsletter von derStandard.at</td>\n",
              "      <td>Abonnieren Sie unserer Newsletter lassen Sie a...</td>\n",
              "    </tr>\n",
              "    <tr>\n",
              "      <th>1</th>\n",
              "      <td>2</td>\n",
              "      <td>Newsroom/User/Community/Regeln</td>\n",
              "      <td>2012-05-26 12:12:19.46</td>\n",
              "      <td>Werden Sie Teil von derStandard.at!</td>\n",
              "      <td>Werden Sie Teil derStandard.at ! 10 . Dezember...</td>\n",
              "    </tr>\n",
              "    <tr>\n",
              "      <th>2</th>\n",
              "      <td>3</td>\n",
              "      <td>Diverses/mobil</td>\n",
              "      <td>2013-11-22 12:15:00.00</td>\n",
              "      <td>Die Android App von derStandard.at</td>\n",
              "      <td>Die Smartphone-App bietet Nachrichten Echtzeit...</td>\n",
              "    </tr>\n",
              "    <tr>\n",
              "      <th>3</th>\n",
              "      <td>4</td>\n",
              "      <td>Newsroom/User/mitmachen/Mitreden</td>\n",
              "      <td>2014-08-13 05:30:00.00</td>\n",
              "      <td>Welche Erfahrungen haben Sie als Linkshänder g...</td>\n",
              "      <td>Wie sieht Ihr Alltag Linkshänder ? Erledigen S...</td>\n",
              "    </tr>\n",
              "    <tr>\n",
              "      <th>4</th>\n",
              "      <td>5</td>\n",
              "      <td>Newsroom/User/mitmachen/Mitreden</td>\n",
              "      <td>2014-08-27 12:27:01.09</td>\n",
              "      <td>Wie haben Sie das Jahr 1989 erlebt?</td>\n",
              "      <td>Erzählen Sie Ihren Erlebnissen rund weltpoliti...</td>\n",
              "    </tr>\n",
              "  </tbody>\n",
              "</table>\n",
              "</div>"
            ],
            "text/plain": [
              "   ID_Article  ...                                               Body\n",
              "0           1  ...  Abonnieren Sie unserer Newsletter lassen Sie a...\n",
              "1           2  ...  Werden Sie Teil derStandard.at ! 10 . Dezember...\n",
              "2           3  ...  Die Smartphone-App bietet Nachrichten Echtzeit...\n",
              "3           4  ...  Wie sieht Ihr Alltag Linkshänder ? Erledigen S...\n",
              "4           5  ...  Erzählen Sie Ihren Erlebnissen rund weltpoliti...\n",
              "\n",
              "[5 rows x 5 columns]"
            ]
          },
          "metadata": {
            "tags": []
          },
          "execution_count": 99
        }
      ]
    },
    {
      "cell_type": "code",
      "metadata": {
        "trusted": true,
        "id": "Wn_AkPdIJhkr",
        "colab_type": "code",
        "colab": {}
      },
      "source": [
        "import gensim.corpora as corpora\n",
        "from pprint import pprint\n",
        "from gensim.models import CoherenceModel\n",
        "import logging, warnings, gensim, spacy\n",
        "from gensim.utils import lemmatize, simple_preprocess\n",
        "import matplotlib.pyplot as plt"
      ],
      "execution_count": 0,
      "outputs": []
    },
    {
      "cell_type": "code",
      "metadata": {
        "trusted": true,
        "id": "amso_V_6Jhkt",
        "colab_type": "code",
        "colab": {}
      },
      "source": [
        "from sklearn.feature_extraction.text import CountVectorizer"
      ],
      "execution_count": 0,
      "outputs": []
    },
    {
      "cell_type": "code",
      "metadata": {
        "trusted": true,
        "id": "LXYYTTrxJhkv",
        "colab_type": "code",
        "colab": {}
      },
      "source": [
        "# Initialise the count vectorizer with the English stop words\n",
        "count_vectorizer = CountVectorizer()\n"
      ],
      "execution_count": 0,
      "outputs": []
    },
    {
      "cell_type": "code",
      "metadata": {
        "trusted": true,
        "id": "2JCxbKX0Jhky",
        "colab_type": "code",
        "colab": {}
      },
      "source": [
        "import matplotlib.pyplot as plt\n",
        "import seaborn as sns\n",
        "sns.set_style('whitegrid')\n",
        "%matplotlib inline"
      ],
      "execution_count": 0,
      "outputs": []
    },
    {
      "cell_type": "code",
      "metadata": {
        "id": "2DTHtZn6iuAJ",
        "colab_type": "code",
        "colab": {}
      },
      "source": [
        "df = articles_df.head(50)"
      ],
      "execution_count": 0,
      "outputs": []
    },
    {
      "cell_type": "code",
      "metadata": {
        "trusted": true,
        "id": "VNZ5Jh4KJhk1",
        "colab_type": "code",
        "colab": {}
      },
      "source": [
        "count_data = count_vectorizer.fit_transform(df[\"Body\"])"
      ],
      "execution_count": 0,
      "outputs": []
    },
    {
      "cell_type": "code",
      "metadata": {
        "trusted": true,
        "id": "7YA6GpyVJhk6",
        "colab_type": "code",
        "colab": {}
      },
      "source": [
        "import warnings\n",
        "warnings.simplefilter(\"ignore\", DeprecationWarning)\n",
        "# Load the LDA model from sk-learn\n",
        "from sklearn.decomposition import LatentDirichletAllocation as LDA\n",
        " \n",
        "# Helper function\n"
      ],
      "execution_count": 0,
      "outputs": []
    },
    {
      "cell_type": "code",
      "metadata": {
        "trusted": true,
        "id": "m_qgoYJVJhk8",
        "colab_type": "code",
        "colab": {}
      },
      "source": [
        "def print_topics(model, count_vectorizer, n_top_words):\n",
        "    words = count_vectorizer.get_feature_names()\n",
        "    for topic_idx, topic in enumerate(model.components_):\n",
        "        print(\"\\nTopic #%d:\" % topic_idx)\n",
        "        print(\" \".join([words[i]\n",
        "                        for i in topic.argsort()[:-n_top_words - 1:-1]]))\n"
      ],
      "execution_count": 0,
      "outputs": []
    },
    {
      "cell_type": "code",
      "metadata": {
        "trusted": true,
        "id": "GmpA-NiEJhlB",
        "colab_type": "code",
        "colab": {}
      },
      "source": [
        "\n",
        "number_topics = 50\n",
        "number_words = 4\n"
      ],
      "execution_count": 0,
      "outputs": []
    },
    {
      "cell_type": "code",
      "metadata": {
        "trusted": true,
        "id": "oR1MPA6oJhlE",
        "colab_type": "code",
        "colab": {}
      },
      "source": [
        "# Create and fit the LDA model\n",
        "lda = LDA(n_components=number_topics, n_jobs=-1)\n"
      ],
      "execution_count": 0,
      "outputs": []
    },
    {
      "cell_type": "code",
      "metadata": {
        "trusted": true,
        "id": "mW7Z8og1JhlH",
        "colab_type": "code",
        "colab": {
          "base_uri": "https://localhost:8080/",
          "height": 156
        },
        "outputId": "47adb576-cf7f-48c9-c6d4-c3b3fc0581ac"
      },
      "source": [
        "lda.fit(count_data)\n"
      ],
      "execution_count": 131,
      "outputs": [
        {
          "output_type": "execute_result",
          "data": {
            "text/plain": [
              "LatentDirichletAllocation(batch_size=128, doc_topic_prior=None,\n",
              "                          evaluate_every=-1, learning_decay=0.7,\n",
              "                          learning_method='batch', learning_offset=10.0,\n",
              "                          max_doc_update_iter=100, max_iter=10,\n",
              "                          mean_change_tol=0.001, n_components=50, n_jobs=-1,\n",
              "                          perp_tol=0.1, random_state=None,\n",
              "                          topic_word_prior=None, total_samples=1000000.0,\n",
              "                          verbose=0)"
            ]
          },
          "metadata": {
            "tags": []
          },
          "execution_count": 131
        }
      ]
    },
    {
      "cell_type": "code",
      "metadata": {
        "id": "WtKD5OQzhQTC",
        "colab_type": "code",
        "colab": {}
      },
      "source": [
        "bodytopics1 = []"
      ],
      "execution_count": 0,
      "outputs": []
    },
    {
      "cell_type": "code",
      "metadata": {
        "trusted": true,
        "id": "KHVaHuCzJhlK",
        "colab_type": "code",
        "colab": {}
      },
      "source": [
        "def print_topics(model, count_vectorizer, n_top_words):\n",
        "    words = count_vectorizer.get_feature_names()\n",
        "    for topic_idx, topic in enumerate(model.components_):\n",
        "        print(\"\\nTopic #%d:\" % topic_idx)\n",
        "        print(\" \".join([words[i]\n",
        "                        for i in topic.argsort()[:-n_top_words - 1:-1]]))\n",
        "        bodytopics1.append([words[i] for i in topic.argsort()[:-n_top_words - 1:-1]])"
      ],
      "execution_count": 0,
      "outputs": []
    },
    {
      "cell_type": "code",
      "metadata": {
        "trusted": true,
        "id": "yfj2CEMpJhlM",
        "colab_type": "code",
        "colab": {
          "base_uri": "https://localhost:8080/",
          "height": 1000
        },
        "outputId": "db93e067-aa20-461f-9ae0-d6444ca385ec"
      },
      "source": [
        "# Print the topics found by the LDA model\n",
        "print(\"Topics found via LDA:\")\n",
        "print_topics(lda, count_vectorizer, number_words)\n"
      ],
      "execution_count": 138,
      "outputs": [
        {
          "output_type": "stream",
          "text": [
            "Topics found via LDA:\n",
            "\n",
            "Topic #0:\n",
            "kerry der meteoriten wurde\n",
            "\n",
            "Topic #1:\n",
            "übrigens fremden frauenrings frauenthemen\n",
            "\n",
            "Topic #2:\n",
            "mehr sie urlaub sei\n",
            "\n",
            "Topic #3:\n",
            "übrigens fremden frauenrings frauenthemen\n",
            "\n",
            "Topic #4:\n",
            "prozent anbieter preise österreich\n",
            "\n",
            "Topic #5:\n",
            "übrigens fremden frauenrings frauenthemen\n",
            "\n",
            "Topic #6:\n",
            "übrigens fremden frauenrings frauenthemen\n",
            "\n",
            "Topic #7:\n",
            "die lego fpö zukunft\n",
            "\n",
            "Topic #8:\n",
            "übrigens fremden frauenrings frauenthemen\n",
            "\n",
            "Topic #9:\n",
            "mittelschicht sie wer arbeit\n",
            "\n",
            "Topic #10:\n",
            "the to iglesias he\n",
            "\n",
            "Topic #11:\n",
            "dragons orner derstandard vikings\n",
            "\n",
            "Topic #12:\n",
            "sie unregelmäßig posting community\n",
            "\n",
            "Topic #13:\n",
            "übrigens fremden frauenrings frauenthemen\n",
            "\n",
            "Topic #14:\n",
            "postings user community foren\n",
            "\n",
            "Topic #15:\n",
            "plank die radioteleskope radioquellen\n",
            "\n",
            "Topic #16:\n",
            "überblick mandate gemeindeergebnisse koalitionen\n",
            "\n",
            "Topic #17:\n",
            "umfragen prozent sie lernen\n",
            "\n",
            "Topic #18:\n",
            "übrigens fremden frauenrings frauenthemen\n",
            "\n",
            "Topic #19:\n",
            "auto android hardware nutzung\n",
            "\n",
            "Topic #20:\n",
            "sie 1989 ihre wurde\n",
            "\n",
            "Topic #21:\n",
            "sie neue eingriffe system\n",
            "\n",
            "Topic #22:\n",
            "übrigens fremden frauenrings frauenthemen\n",
            "\n",
            "Topic #23:\n",
            "eaton punkten die platz\n",
            "\n",
            "Topic #24:\n",
            "mail amp newsletter wöchentliche\n",
            "\n",
            "Topic #25:\n",
            "sie linkshänder rechts gibt\n",
            "\n",
            "Topic #26:\n",
            "koffer sei der die\n",
            "\n",
            "Topic #27:\n",
            "internet sie seite und\n",
            "\n",
            "Topic #28:\n",
            "übrigens fremden frauenrings frauenthemen\n",
            "\n",
            "Topic #29:\n",
            "frauen ablinger belästigung sexuelle\n",
            "\n",
            "Topic #30:\n",
            "sacher lassiwe das hofinger\n",
            "\n",
            "Topic #31:\n",
            "antibiotika merkel rauch die\n",
            "\n",
            "Topic #32:\n",
            "facebook schlüssel pgp eigenen\n",
            "\n",
            "Topic #33:\n",
            "übrigens fremden frauenrings frauenthemen\n",
            "\n",
            "Topic #34:\n",
            "sie derstandard at mail\n",
            "\n",
            "Topic #35:\n",
            "übrigens fremden frauenrings frauenthemen\n",
            "\n",
            "Topic #36:\n",
            "übrigens fremden frauenrings frauenthemen\n",
            "\n",
            "Topic #37:\n",
            "konventionalstrafe arbeitgeber verstoß arbeitnehmer\n",
            "\n",
            "Topic #38:\n",
            "die jahren hunde analyse\n",
            "\n",
            "Topic #39:\n",
            "app sie version android\n",
            "\n",
            "Topic #40:\n",
            "übrigens fremden frauenrings frauenthemen\n",
            "\n",
            "Topic #41:\n",
            "übrigens fremden frauenrings frauenthemen\n",
            "\n",
            "Topic #42:\n",
            "übrigens fremden frauenrings frauenthemen\n",
            "\n",
            "Topic #43:\n",
            "fc ger batterien sie\n",
            "\n",
            "Topic #44:\n",
            "übrigens fremden frauenrings frauenthemen\n",
            "\n",
            "Topic #45:\n",
            "us apple konzerne moody\n",
            "\n",
            "Topic #46:\n",
            "übrigens fremden frauenrings frauenthemen\n",
            "\n",
            "Topic #47:\n",
            "chat sie postings user\n",
            "\n",
            "Topic #48:\n",
            "übrigens fremden frauenrings frauenthemen\n",
            "\n",
            "Topic #49:\n",
            "schmid matura maturanten reifeprüfung\n"
          ],
          "name": "stdout"
        }
      ]
    },
    {
      "cell_type": "code",
      "metadata": {
        "trusted": true,
        "id": "E9tn4weqJhlP",
        "colab_type": "code",
        "colab": {
          "base_uri": "https://localhost:8080/",
          "height": 884
        },
        "outputId": "f3759393-730e-4f06-d737-15bbd4bad743"
      },
      "source": [
        "bodytopics1"
      ],
      "execution_count": 139,
      "outputs": [
        {
          "output_type": "execute_result",
          "data": {
            "text/plain": [
              "[['kerry', 'der', 'meteoriten', 'wurde'],\n",
              " ['übrigens', 'fremden', 'frauenrings', 'frauenthemen'],\n",
              " ['mehr', 'sie', 'urlaub', 'sei'],\n",
              " ['übrigens', 'fremden', 'frauenrings', 'frauenthemen'],\n",
              " ['prozent', 'anbieter', 'preise', 'österreich'],\n",
              " ['übrigens', 'fremden', 'frauenrings', 'frauenthemen'],\n",
              " ['übrigens', 'fremden', 'frauenrings', 'frauenthemen'],\n",
              " ['die', 'lego', 'fpö', 'zukunft'],\n",
              " ['übrigens', 'fremden', 'frauenrings', 'frauenthemen'],\n",
              " ['mittelschicht', 'sie', 'wer', 'arbeit'],\n",
              " ['the', 'to', 'iglesias', 'he'],\n",
              " ['dragons', 'orner', 'derstandard', 'vikings'],\n",
              " ['sie', 'unregelmäßig', 'posting', 'community'],\n",
              " ['übrigens', 'fremden', 'frauenrings', 'frauenthemen'],\n",
              " ['postings', 'user', 'community', 'foren'],\n",
              " ['plank', 'die', 'radioteleskope', 'radioquellen'],\n",
              " ['überblick', 'mandate', 'gemeindeergebnisse', 'koalitionen'],\n",
              " ['umfragen', 'prozent', 'sie', 'lernen'],\n",
              " ['übrigens', 'fremden', 'frauenrings', 'frauenthemen'],\n",
              " ['auto', 'android', 'hardware', 'nutzung'],\n",
              " ['sie', '1989', 'ihre', 'wurde'],\n",
              " ['sie', 'neue', 'eingriffe', 'system'],\n",
              " ['übrigens', 'fremden', 'frauenrings', 'frauenthemen'],\n",
              " ['eaton', 'punkten', 'die', 'platz'],\n",
              " ['mail', 'amp', 'newsletter', 'wöchentliche'],\n",
              " ['sie', 'linkshänder', 'rechts', 'gibt'],\n",
              " ['koffer', 'sei', 'der', 'die'],\n",
              " ['internet', 'sie', 'seite', 'und'],\n",
              " ['übrigens', 'fremden', 'frauenrings', 'frauenthemen'],\n",
              " ['frauen', 'ablinger', 'belästigung', 'sexuelle'],\n",
              " ['sacher', 'lassiwe', 'das', 'hofinger'],\n",
              " ['antibiotika', 'merkel', 'rauch', 'die'],\n",
              " ['facebook', 'schlüssel', 'pgp', 'eigenen'],\n",
              " ['übrigens', 'fremden', 'frauenrings', 'frauenthemen'],\n",
              " ['sie', 'derstandard', 'at', 'mail'],\n",
              " ['übrigens', 'fremden', 'frauenrings', 'frauenthemen'],\n",
              " ['übrigens', 'fremden', 'frauenrings', 'frauenthemen'],\n",
              " ['konventionalstrafe', 'arbeitgeber', 'verstoß', 'arbeitnehmer'],\n",
              " ['die', 'jahren', 'hunde', 'analyse'],\n",
              " ['app', 'sie', 'version', 'android'],\n",
              " ['übrigens', 'fremden', 'frauenrings', 'frauenthemen'],\n",
              " ['übrigens', 'fremden', 'frauenrings', 'frauenthemen'],\n",
              " ['übrigens', 'fremden', 'frauenrings', 'frauenthemen'],\n",
              " ['fc', 'ger', 'batterien', 'sie'],\n",
              " ['übrigens', 'fremden', 'frauenrings', 'frauenthemen'],\n",
              " ['us', 'apple', 'konzerne', 'moody'],\n",
              " ['übrigens', 'fremden', 'frauenrings', 'frauenthemen'],\n",
              " ['chat', 'sie', 'postings', 'user'],\n",
              " ['übrigens', 'fremden', 'frauenrings', 'frauenthemen'],\n",
              " ['schmid', 'matura', 'maturanten', 'reifeprüfung']]"
            ]
          },
          "metadata": {
            "tags": []
          },
          "execution_count": 139
        }
      ]
    },
    {
      "cell_type": "code",
      "metadata": {
        "trusted": true,
        "id": "x_pEIDhFJhlR",
        "colab_type": "code",
        "colab": {}
      },
      "source": [
        ""
      ],
      "execution_count": 0,
      "outputs": []
    },
    {
      "cell_type": "code",
      "metadata": {
        "trusted": true,
        "id": "INduebqpJhlT",
        "colab_type": "code",
        "colab": {}
      },
      "source": [
        "#lda_model =  gensim.models.LdaMulticore(corpus, \n",
        " #                                  num_topics = 4, \n",
        "  #                                 id2word = id2word,                                    \n",
        "   #                                passes = 10,\n",
        "    #                               workers = 2)"
      ],
      "execution_count": 0,
      "outputs": []
    },
    {
      "cell_type": "code",
      "metadata": {
        "trusted": true,
        "id": "jY0y-x9eJhlW",
        "colab_type": "code",
        "colab": {}
      },
      "source": [
        "#pprint(lda_model.print_topics())\n"
      ],
      "execution_count": 0,
      "outputs": []
    },
    {
      "cell_type": "code",
      "metadata": {
        "trusted": true,
        "id": "-gQgIGJwJhlY",
        "colab_type": "code",
        "colab": {}
      },
      "source": [
        "                                                                                                    #data = df[\"Title\"]\n",
        "\n"
      ],
      "execution_count": 0,
      "outputs": []
    },
    {
      "cell_type": "code",
      "metadata": {
        "trusted": true,
        "id": "DTPJI1IDJhlb",
        "colab_type": "code",
        "colab": {}
      },
      "source": [
        "##dataa = data.head(50)"
      ],
      "execution_count": 0,
      "outputs": []
    },
    {
      "cell_type": "code",
      "metadata": {
        "trusted": true,
        "id": "FnJ-4xsDJhlf",
        "colab_type": "code",
        "colab": {}
      },
      "source": [
        "#id2word = corpora.Dictionary(dataa)\n",
        "#print(id2word)"
      ],
      "execution_count": 0,
      "outputs": []
    },
    {
      "cell_type": "code",
      "metadata": {
        "trusted": true,
        "id": "FSv4NhSCJhlh",
        "colab_type": "code",
        "colab": {}
      },
      "source": [
        "#corpus = [id2word.doc2bow(text) for text in data]\n",
        "#print(corpus)"
      ],
      "execution_count": 0,
      "outputs": []
    },
    {
      "cell_type": "code",
      "metadata": {
        "trusted": true,
        "id": "yRl_OTBpJhlj",
        "colab_type": "code",
        "colab": {
          "base_uri": "https://localhost:8080/",
          "height": 121
        },
        "outputId": "a531e39f-f93d-494f-eafe-75a0d44133b6"
      },
      "source": [
        "df['Title'] = df['Title'].apply(pipeline)"
      ],
      "execution_count": 140,
      "outputs": [
        {
          "output_type": "stream",
          "text": [
            "/usr/local/lib/python3.6/dist-packages/ipykernel_launcher.py:1: SettingWithCopyWarning: \n",
            "A value is trying to be set on a copy of a slice from a DataFrame.\n",
            "Try using .loc[row_indexer,col_indexer] = value instead\n",
            "\n",
            "See the caveats in the documentation: http://pandas.pydata.org/pandas-docs/stable/user_guide/indexing.html#returning-a-view-versus-a-copy\n",
            "  \"\"\"Entry point for launching an IPython kernel.\n"
          ],
          "name": "stderr"
        }
      ]
    },
    {
      "cell_type": "code",
      "metadata": {
        "trusted": true,
        "id": "p2apzRpIJhlk",
        "colab_type": "code",
        "colab": {}
      },
      "source": [
        "count_data1 = count_vectorizer.fit_transform(df[\"Title\"])"
      ],
      "execution_count": 0,
      "outputs": []
    },
    {
      "cell_type": "code",
      "metadata": {
        "id": "Tm2awxk5kDc6",
        "colab_type": "code",
        "colab": {}
      },
      "source": [
        "def print_topics(model, count_vectorizer, n_top_words):\n",
        "    words = count_vectorizer.get_feature_names()\n",
        "    for topic_idx, topic in enumerate(model.components_):\n",
        "        print(\"\\nTopic #%d:\" % topic_idx)\n",
        "        print(\" \".join([words[i]\n",
        "                        for i in topic.argsort()[:-n_top_words - 1:-1]]))\n",
        "        titletopics2.append([words[i] for i in topic.argsort()[:-n_top_words - 1:-1]])"
      ],
      "execution_count": 0,
      "outputs": []
    },
    {
      "cell_type": "code",
      "metadata": {
        "trusted": true,
        "id": "RKUmWpGnJhlo",
        "colab_type": "code",
        "colab": {
          "base_uri": "https://localhost:8080/",
          "height": 156
        },
        "outputId": "144667f3-2c4b-445b-eb83-758deaadef51"
      },
      "source": [
        "lda.fit(count_data1)"
      ],
      "execution_count": 147,
      "outputs": [
        {
          "output_type": "execute_result",
          "data": {
            "text/plain": [
              "LatentDirichletAllocation(batch_size=128, doc_topic_prior=None,\n",
              "                          evaluate_every=-1, learning_decay=0.7,\n",
              "                          learning_method='batch', learning_offset=10.0,\n",
              "                          max_doc_update_iter=100, max_iter=10,\n",
              "                          mean_change_tol=0.001, n_components=50, n_jobs=-1,\n",
              "                          perp_tol=0.1, random_state=None,\n",
              "                          topic_word_prior=None, total_samples=1000000.0,\n",
              "                          verbose=0)"
            ]
          },
          "metadata": {
            "tags": []
          },
          "execution_count": 147
        }
      ]
    },
    {
      "cell_type": "code",
      "metadata": {
        "id": "uMPBz8KIkQhr",
        "colab_type": "code",
        "colab": {}
      },
      "source": [
        "titletopics2 = []"
      ],
      "execution_count": 0,
      "outputs": []
    },
    {
      "cell_type": "code",
      "metadata": {
        "trusted": true,
        "id": "LOtYtK0CJhlq",
        "colab_type": "code",
        "colab": {
          "base_uri": "https://localhost:8080/",
          "height": 1000
        },
        "outputId": "77f51e35-fefc-4d64-c124-3d26e9517b3a"
      },
      "source": [
        "# Print the topics found by the LDA model\n",
        "print(\"Topics found via LDA:\")\n",
        "print_topics(lda, count_vectorizer, number_words)"
      ],
      "execution_count": 152,
      "outputs": [
        {
          "output_type": "stream",
          "text": [
            "Topics found via LDA:\n",
            "\n",
            "Topic #0:\n",
            "ihre schlimmsten hotelerlebnisse fremde\n",
            "\n",
            "Topic #1:\n",
            "österreichische österreich gewinnen gesundheitswissen\n",
            "\n",
            "Topic #2:\n",
            "österreichische österreich gewinnen gesundheitswissen\n",
            "\n",
            "Topic #3:\n",
            "facebook thema milliardenfache gesundheit\n",
            "\n",
            "Topic #4:\n",
            "preise öl co2 gas\n",
            "\n",
            "Topic #5:\n",
            "österreichische österreich gewinnen gesundheitswissen\n",
            "\n",
            "Topic #6:\n",
            "mann erhielt watch wegen\n",
            "\n",
            "Topic #7:\n",
            "gewordene eine fleisch brauerei\n",
            "\n",
            "Topic #8:\n",
            "österreichische österreich gewinnen gesundheitswissen\n",
            "\n",
            "Topic #9:\n",
            "virtuellen angst penissen lego\n",
            "\n",
            "Topic #10:\n",
            "215 meteoriten gestohlene beschlagnahmte\n",
            "\n",
            "Topic #11:\n",
            "space lost putin österreichische\n",
            "\n",
            "Topic #12:\n",
            "österreichische österreich gewinnen gesundheitswissen\n",
            "\n",
            "Topic #13:\n",
            "österreichische österreich gewinnen gesundheitswissen\n",
            "\n",
            "Topic #14:\n",
            "artikeln können community zuordnen\n",
            "\n",
            "Topic #15:\n",
            "österreichische österreich gewinnen gesundheitswissen\n",
            "\n",
            "Topic #16:\n",
            "österreichische österreich gewinnen gesundheitswissen\n",
            "\n",
            "Topic #17:\n",
            "südkorea unbeliebter immer hundefleisch\n",
            "\n",
            "Topic #18:\n",
            "österreichische österreich gewinnen gesundheitswissen\n",
            "\n",
            "Topic #19:\n",
            "österreichische österreich gewinnen gesundheitswissen\n",
            "\n",
            "Topic #20:\n",
            "eingriff erbgut wo forschung\n",
            "\n",
            "Topic #21:\n",
            "zwischengelandet wetterbedingt japan solar\n",
            "\n",
            "Topic #22:\n",
            "österreichische österreich gewinnen gesundheitswissen\n",
            "\n",
            "Topic #23:\n",
            "österreichische österreich gewinnen gesundheitswissen\n",
            "\n",
            "Topic #24:\n",
            "burgenland alle ergebnisse landtagswahlen\n",
            "\n",
            "Topic #25:\n",
            "österreichische österreich gewinnen gesundheitswissen\n",
            "\n",
            "Topic #26:\n",
            "österreichische österreich gewinnen gesundheitswissen\n",
            "\n",
            "Topic #27:\n",
            "us kerry fahrradunfall krankenhaus\n",
            "\n",
            "Topic #28:\n",
            "syrien autounfall drusischer stirbt\n",
            "\n",
            "Topic #29:\n",
            "österreichische österreich gewinnen gesundheitswissen\n",
            "\n",
            "Topic #30:\n",
            "österreichische österreich gewinnen gesundheitswissen\n",
            "\n",
            "Topic #31:\n",
            "1989 wie jahr handytarife\n",
            "\n",
            "Topic #32:\n",
            "österreichische österreich gewinnen gesundheitswissen\n",
            "\n",
            "Topic #33:\n",
            "sie erstes ihr web\n",
            "\n",
            "Topic #34:\n",
            "pessimistischen steirern stärksten fpö\n",
            "\n",
            "Topic #35:\n",
            "schützen frauen das würde\n",
            "\n",
            "Topic #36:\n",
            "riesige konzerne geldreserven warum\n",
            "\n",
            "Topic #37:\n",
            "iglesias verletzt konzert popstar\n",
            "\n",
            "Topic #38:\n",
            "vikings football gewinnen derby\n",
            "\n",
            "Topic #39:\n",
            "österreichische österreich gewinnen gesundheitswissen\n",
            "\n",
            "Topic #40:\n",
            "österreichische österreich gewinnen gesundheitswissen\n",
            "\n",
            "Topic #41:\n",
            "gestärkt landeshauptleute hofinger fpö\n",
            "\n",
            "Topic #42:\n",
            "österreichische österreich gewinnen gesundheitswissen\n",
            "\n",
            "Topic #43:\n",
            "österreichische österreich gewinnen gesundheitswissen\n",
            "\n",
            "Topic #44:\n",
            "österreichische österreich gewinnen gesundheitswissen\n",
            "\n",
            "Topic #45:\n",
            "koller internationale fixiert rebbe\n",
            "\n",
            "Topic #46:\n",
            "clinton martin malley präsentiert\n",
            "\n",
            "Topic #47:\n",
            "sie ihrem leben wie\n",
            "\n",
            "Topic #48:\n",
            "sie nun flats danube\n",
            "\n",
            "Topic #49:\n",
            "keine scheu community österreichische\n"
          ],
          "name": "stdout"
        }
      ]
    },
    {
      "cell_type": "code",
      "metadata": {
        "trusted": true,
        "id": "wXaK1hfzJhlt",
        "colab_type": "code",
        "colab": {
          "base_uri": "https://localhost:8080/",
          "height": 884
        },
        "outputId": "f285caf9-1134-4c77-eaca-de9de2667c2d"
      },
      "source": [
        "titletopics2"
      ],
      "execution_count": 153,
      "outputs": [
        {
          "output_type": "execute_result",
          "data": {
            "text/plain": [
              "[['ihre', 'schlimmsten', 'hotelerlebnisse', 'fremde'],\n",
              " ['österreichische', 'österreich', 'gewinnen', 'gesundheitswissen'],\n",
              " ['österreichische', 'österreich', 'gewinnen', 'gesundheitswissen'],\n",
              " ['facebook', 'thema', 'milliardenfache', 'gesundheit'],\n",
              " ['preise', 'öl', 'co2', 'gas'],\n",
              " ['österreichische', 'österreich', 'gewinnen', 'gesundheitswissen'],\n",
              " ['mann', 'erhielt', 'watch', 'wegen'],\n",
              " ['gewordene', 'eine', 'fleisch', 'brauerei'],\n",
              " ['österreichische', 'österreich', 'gewinnen', 'gesundheitswissen'],\n",
              " ['virtuellen', 'angst', 'penissen', 'lego'],\n",
              " ['215', 'meteoriten', 'gestohlene', 'beschlagnahmte'],\n",
              " ['space', 'lost', 'putin', 'österreichische'],\n",
              " ['österreichische', 'österreich', 'gewinnen', 'gesundheitswissen'],\n",
              " ['österreichische', 'österreich', 'gewinnen', 'gesundheitswissen'],\n",
              " ['artikeln', 'können', 'community', 'zuordnen'],\n",
              " ['österreichische', 'österreich', 'gewinnen', 'gesundheitswissen'],\n",
              " ['österreichische', 'österreich', 'gewinnen', 'gesundheitswissen'],\n",
              " ['südkorea', 'unbeliebter', 'immer', 'hundefleisch'],\n",
              " ['österreichische', 'österreich', 'gewinnen', 'gesundheitswissen'],\n",
              " ['österreichische', 'österreich', 'gewinnen', 'gesundheitswissen'],\n",
              " ['eingriff', 'erbgut', 'wo', 'forschung'],\n",
              " ['zwischengelandet', 'wetterbedingt', 'japan', 'solar'],\n",
              " ['österreichische', 'österreich', 'gewinnen', 'gesundheitswissen'],\n",
              " ['österreichische', 'österreich', 'gewinnen', 'gesundheitswissen'],\n",
              " ['burgenland', 'alle', 'ergebnisse', 'landtagswahlen'],\n",
              " ['österreichische', 'österreich', 'gewinnen', 'gesundheitswissen'],\n",
              " ['österreichische', 'österreich', 'gewinnen', 'gesundheitswissen'],\n",
              " ['us', 'kerry', 'fahrradunfall', 'krankenhaus'],\n",
              " ['syrien', 'autounfall', 'drusischer', 'stirbt'],\n",
              " ['österreichische', 'österreich', 'gewinnen', 'gesundheitswissen'],\n",
              " ['österreichische', 'österreich', 'gewinnen', 'gesundheitswissen'],\n",
              " ['1989', 'wie', 'jahr', 'handytarife'],\n",
              " ['österreichische', 'österreich', 'gewinnen', 'gesundheitswissen'],\n",
              " ['sie', 'erstes', 'ihr', 'web'],\n",
              " ['pessimistischen', 'steirern', 'stärksten', 'fpö'],\n",
              " ['schützen', 'frauen', 'das', 'würde'],\n",
              " ['riesige', 'konzerne', 'geldreserven', 'warum'],\n",
              " ['iglesias', 'verletzt', 'konzert', 'popstar'],\n",
              " ['vikings', 'football', 'gewinnen', 'derby'],\n",
              " ['österreichische', 'österreich', 'gewinnen', 'gesundheitswissen'],\n",
              " ['österreichische', 'österreich', 'gewinnen', 'gesundheitswissen'],\n",
              " ['gestärkt', 'landeshauptleute', 'hofinger', 'fpö'],\n",
              " ['österreichische', 'österreich', 'gewinnen', 'gesundheitswissen'],\n",
              " ['österreichische', 'österreich', 'gewinnen', 'gesundheitswissen'],\n",
              " ['österreichische', 'österreich', 'gewinnen', 'gesundheitswissen'],\n",
              " ['koller', 'internationale', 'fixiert', 'rebbe'],\n",
              " ['clinton', 'martin', 'malley', 'präsentiert'],\n",
              " ['sie', 'ihrem', 'leben', 'wie'],\n",
              " ['sie', 'nun', 'flats', 'danube'],\n",
              " ['keine', 'scheu', 'community', 'österreichische']]"
            ]
          },
          "metadata": {
            "tags": []
          },
          "execution_count": 153
        }
      ]
    },
    {
      "cell_type": "code",
      "metadata": {
        "id": "2ErtnVMYmKRU",
        "colab_type": "code",
        "colab": {}
      },
      "source": [
        "titlelist3 = []\n",
        "for i in range (0, len(df.Title)):\n",
        "  titlelist3.append(df.Title[i]) "
      ],
      "execution_count": 0,
      "outputs": []
    },
    {
      "cell_type": "code",
      "metadata": {
        "id": "_whad6SRkfsV",
        "colab_type": "code",
        "colab": {}
      },
      "source": [
        "#Now need to find similarity score between the 3 lists\n",
        "#topics from body & topics from title\n",
        "#topics from body & title\n",
        "#topics from title & title"
      ],
      "execution_count": 0,
      "outputs": []
    },
    {
      "cell_type": "code",
      "metadata": {
        "id": "C96AfNvWlbj9",
        "colab_type": "code",
        "colab": {}
      },
      "source": [
        "from __future__ import print_function, unicode_literals\n",
        "import spacy\n",
        "\n",
        "#nlp = spacy.load('de')"
      ],
      "execution_count": 0,
      "outputs": []
    },
    {
      "cell_type": "code",
      "metadata": {
        "id": "ceeR0i-BlLBA",
        "colab_type": "code",
        "colab": {
          "base_uri": "https://localhost:8080/",
          "height": 245
        },
        "outputId": "8dd1b0c4-0d8f-4f24-9666-4ad2439fc662"
      },
      "source": [
        "!python -m spacy download de_core_news_md\n",
        "import de_core_news_md\n",
        "nlp = de_core_news_md.load()\n"
      ],
      "execution_count": 160,
      "outputs": [
        {
          "output_type": "stream",
          "text": [
            "Collecting de_core_news_md==2.1.0\n",
            "\u001b[?25l  Downloading https://github.com/explosion/spacy-models/releases/download/de_core_news_md-2.1.0/de_core_news_md-2.1.0.tar.gz (220.8MB)\n",
            "\u001b[K     |████████████████████████████████| 220.8MB 18.9MB/s \n",
            "\u001b[?25hBuilding wheels for collected packages: de-core-news-md\n",
            "  Building wheel for de-core-news-md (setup.py) ... \u001b[?25l\u001b[?25hdone\n",
            "  Created wheel for de-core-news-md: filename=de_core_news_md-2.1.0-cp36-none-any.whl size=224546880 sha256=7c95cdacd9091d0d7d9636a5cabc3aa419b29b0d9ddbfa73f69e89fa6fda8293\n",
            "  Stored in directory: /tmp/pip-ephem-wheel-cache-7pdblfmb/wheels/44/34/f1/31d4b0fa32008c09695ccb180865f196ecd9d512c146f99749\n",
            "Successfully built de-core-news-md\n",
            "Installing collected packages: de-core-news-md\n",
            "Successfully installed de-core-news-md-2.1.0\n",
            "\u001b[38;5;2m✔ Download and installation successful\u001b[0m\n",
            "You can now load the model via spacy.load('de_core_news_md')\n"
          ],
          "name": "stdout"
        }
      ]
    },
    {
      "cell_type": "code",
      "metadata": {
        "id": "VZEG7gBspOU3",
        "colab_type": "code",
        "colab": {
          "base_uri": "https://localhost:8080/",
          "height": 260
        },
        "outputId": "9738dd3c-d73a-4972-f337-204bb3d2bffa"
      },
      "source": [
        "similarity_list = []\n",
        "for i in range(0,4):  \n",
        "    topic_title = \" \".join(bodytopics1[i])\n",
        "    topic_body    = \" \".join(titletopics2[i])\n",
        "    \n",
        "    tokens_topic_title = nlp(topic_title)\n",
        "    tokens_topic_body   = nlp(topic_body)\n",
        "    j = 0\n",
        "    similarity_list_temp = []\n",
        "    for token in tokens_topic_title:\n",
        "        similarity = token.similarity(tokens_topic_body[j])\n",
        "\n",
        "        similarity_list_temp.append(similarity)\n",
        "        j = j+1\n",
        "\n",
        "    similarity_list.append(np.average(np.asarray(similarity_list_temp)))"
      ],
      "execution_count": 161,
      "outputs": [
        {
          "output_type": "stream",
          "text": [
            "/usr/lib/python3.6/runpy.py:193: UserWarning: [W008] Evaluating Token.similarity based on empty vectors.\n",
            "  \"__main__\", mod_spec)\n",
            "/usr/lib/python3.6/runpy.py:193: UserWarning: [W008] Evaluating Token.similarity based on empty vectors.\n",
            "  \"__main__\", mod_spec)\n",
            "/usr/lib/python3.6/runpy.py:193: UserWarning: [W008] Evaluating Token.similarity based on empty vectors.\n",
            "  \"__main__\", mod_spec)\n",
            "/usr/lib/python3.6/runpy.py:193: UserWarning: [W008] Evaluating Token.similarity based on empty vectors.\n",
            "  \"__main__\", mod_spec)\n",
            "/usr/lib/python3.6/runpy.py:193: UserWarning: [W008] Evaluating Token.similarity based on empty vectors.\n",
            "  \"__main__\", mod_spec)\n",
            "/usr/lib/python3.6/runpy.py:193: UserWarning: [W008] Evaluating Token.similarity based on empty vectors.\n",
            "  \"__main__\", mod_spec)\n",
            "/usr/lib/python3.6/runpy.py:193: UserWarning: [W008] Evaluating Token.similarity based on empty vectors.\n",
            "  \"__main__\", mod_spec)\n"
          ],
          "name": "stderr"
        }
      ]
    },
    {
      "cell_type": "code",
      "metadata": {
        "id": "x1Q3jE8wp61E",
        "colab_type": "code",
        "colab": {}
      },
      "source": [
        ""
      ],
      "execution_count": 0,
      "outputs": []
    }
  ]
}